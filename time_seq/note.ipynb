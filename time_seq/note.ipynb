{
 "cells": [
  {
   "cell_type": "code",
   "execution_count": 2,
   "metadata": {},
   "outputs": [],
   "source": [
    "import numpy as np\n",
    "import torch\n",
    "\n",
    "np.random.seed(2)\n",
    "\n",
    "T = 20\n",
    "L = 1000\n",
    "N = 100\n",
    "\n",
    "x = np.empty((N, L), 'int64')\n",
    "x[:] = np.array(range(L)) + np.random.randint(-4 * T, 4 * T, N).reshape(N, 1)\n",
    "data = np.sin(x / 1.0 / T).astype('float64')"
   ]
  },
  {
   "cell_type": "code",
   "execution_count": 5,
   "metadata": {},
   "outputs": [
    {
     "name": "stdout",
     "output_type": "stream",
     "text": [
      "(100, 1000)\n",
      "[[ 0.10819513  0.05837414  0.00840725 ...  0.50025202  0.45635088\n",
      "   0.4113091 ]\n",
      " [-0.38941834 -0.34289781 -0.29552021 ... -0.72805642 -0.69288495\n",
      "  -0.65598164]\n",
      " [-0.23924933 -0.28747801 -0.33498815 ...  0.17301479  0.12357312\n",
      "   0.07382259]\n",
      " ...\n",
      " [-0.24740396 -0.19866933 -0.14943813 ... -0.61743871 -0.57735251\n",
      "  -0.53582323]\n",
      " [ 0.99749499  0.99978376  0.9995736  ...  0.88407805  0.90633041\n",
      "   0.92631742]\n",
      " [-0.99749499 -0.99271299 -0.98544973 ... -0.94118156 -0.95689335\n",
      "  -0.97021341]]\n",
      "[ 0.10819513  0.05837414  0.00840725 -0.04158066]\n"
     ]
    }
   ],
   "source": [
    "print(data.shape)\n",
    "print(data)\n",
    "print(data[0][:4])"
   ]
  },
  {
   "cell_type": "code",
   "execution_count": null,
   "metadata": {},
   "outputs": [],
   "source": []
  }
 ],
 "metadata": {
  "kernelspec": {
   "display_name": "Python 3",
   "language": "python",
   "name": "python3"
  },
  "language_info": {
   "codemirror_mode": {
    "name": "ipython",
    "version": 3
   },
   "file_extension": ".py",
   "mimetype": "text/x-python",
   "name": "python",
   "nbconvert_exporter": "python",
   "pygments_lexer": "ipython3",
   "version": "3.10.12"
  }
 },
 "nbformat": 4,
 "nbformat_minor": 2
}
